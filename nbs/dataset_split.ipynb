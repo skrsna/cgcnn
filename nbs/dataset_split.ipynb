{
 "cells": [
  {
   "cell_type": "markdown",
   "metadata": {},
   "source": [
    "### Follows Ulissi's group \n",
    "https://github.com/ulissigroup/uncertainty_benchmarking/blob/master/preprocessing/split_data.ipynb"
   ]
  },
  {
   "cell_type": "code",
   "execution_count": 1,
   "metadata": {},
   "outputs": [],
   "source": [
    "import pickle\n",
    "import numpy as np "
   ]
  },
  {
   "cell_type": "code",
   "execution_count": 2,
   "metadata": {},
   "outputs": [],
   "source": [
    "with open('/scratch/westgroup/mpnn/gasdb_dgl_graphs/gasdb_dgl_graphs.pkl','rb') as infile:\n",
    "    graphs = pickle.load(infile)"
   ]
  },
  {
   "cell_type": "code",
   "execution_count": 3,
   "metadata": {},
   "outputs": [],
   "source": [
    "graphs = [graph for graph in graphs if graph is not np.nan]"
   ]
  },
  {
   "cell_type": "code",
   "execution_count": 4,
   "metadata": {},
   "outputs": [
    {
     "data": {
      "text/plain": [
       "47279"
      ]
     },
     "execution_count": 4,
     "metadata": {},
     "output_type": "execute_result"
    }
   ],
   "source": [
    "len(graphs)"
   ]
  },
  {
   "cell_type": "code",
   "execution_count": 5,
   "metadata": {},
   "outputs": [],
   "source": [
    "import random\n",
    "from sklearn.model_selection import train_test_split"
   ]
  },
  {
   "cell_type": "code",
   "execution_count": 6,
   "metadata": {},
   "outputs": [],
   "source": [
    "data_train, data_remain = [], [] \n",
    "for graph in graphs:\n",
    "    if len(graph.comp)-1 == 1 ## mono metallics\n",
    "        data_train.append(graph)\n",
    "    else:\n",
    "        data_remain.append(graph)"
   ]
  },
  {
   "cell_type": "code",
   "execution_count": 9,
   "metadata": {},
   "outputs": [],
   "source": [
    "adsorbates =[graph.adsorbate for graph in graphs]"
   ]
  },
  {
   "cell_type": "code",
   "execution_count": 11,
   "metadata": {},
   "outputs": [],
   "source": [
    "adsorbates = list(set(adsorbates))"
   ]
  },
  {
   "cell_type": "code",
   "execution_count": 13,
   "metadata": {},
   "outputs": [],
   "source": [
    "# Stratify our data by adsorbate\n",
    "data_val = []\n",
    "data_test = []\n",
    "for ads in adsorbates:\n",
    "    _data = [graph\n",
    "             for graph in data_remain\n",
    "             if graph.adsorbate == ads]\n",
    "\n",
    "    # Split out the testing and validation data\n",
    "    data_cv, _data_test = train_test_split(_data, test_size=0.2)\n",
    "    _data_train, _data_val = train_test_split(data_cv, test_size=0.2)\n",
    "\n",
    "    # Concatenate the data in this split with the rest\n",
    "    data_train.extend(_data_train)\n",
    "    data_val.extend(_data_val)\n",
    "    data_test.extend(_data_test)"
   ]
  },
  {
   "cell_type": "code",
   "execution_count": 14,
   "metadata": {},
   "outputs": [],
   "source": [
    "# Shuffle all the datasets because they've been sorted by both adsorbate and monometallics\n",
    "random.shuffle(data_train)\n",
    "random.shuffle(data_val)\n",
    "random.shuffle(data_test)"
   ]
  },
  {
   "cell_type": "code",
   "execution_count": 15,
   "metadata": {},
   "outputs": [
    {
     "data": {
      "text/plain": [
       "(31466, 7028, 8785)"
      ]
     },
     "execution_count": 15,
     "metadata": {},
     "output_type": "execute_result"
    }
   ],
   "source": [
    "len(data_train), len(data_val), len(data_test)"
   ]
  },
  {
   "cell_type": "code",
   "execution_count": 16,
   "metadata": {},
   "outputs": [
    {
     "name": "stdout",
     "output_type": "stream",
     "text": [
      "67% train\n",
      "15% validate\n",
      "19% test\n"
     ]
    }
   ],
   "source": [
    "# Report the final splits\n",
    "print('%i%% train' % round(len(data_train)/len(graphs) * 100))\n",
    "print('%i%% validate' % round(len(data_val)/len(graphs) * 100))\n",
    "print('%i%% test' % round(len(data_test)/len(graphs) * 100))"
   ]
  },
  {
   "cell_type": "code",
   "execution_count": 17,
   "metadata": {},
   "outputs": [],
   "source": [
    "with open('/scratch/westgroup/mpnn/gasdb_dgl_graphs/gaspy_splits/gaspy_train.pkl','wb') as outfile:\n",
    "    pickle.dump(data_train, outfile)"
   ]
  },
  {
   "cell_type": "code",
   "execution_count": 19,
   "metadata": {},
   "outputs": [],
   "source": [
    "with open('/scratch/westgroup/mpnn/gasdb_dgl_graphs/gaspy_splits/gaspy_valid.pkl','wb') as outfile:\n",
    "    pickle.dump(data_val, outfile)"
   ]
  },
  {
   "cell_type": "code",
   "execution_count": 20,
   "metadata": {},
   "outputs": [],
   "source": [
    "with open('/scratch/westgroup/mpnn/gasdb_dgl_graphs/gaspy_splits/gaspy_test.pkl','wb') as outfile:\n",
    "    pickle.dump(data_test, outfile)"
   ]
  },
  {
   "cell_type": "code",
   "execution_count": null,
   "metadata": {},
   "outputs": [],
   "source": []
  }
 ],
 "metadata": {
  "kernelspec": {
   "display_name": "Python 3",
   "language": "python",
   "name": "python3"
  },
  "language_info": {
   "codemirror_mode": {
    "name": "ipython",
    "version": 3
   },
   "file_extension": ".py",
   "mimetype": "text/x-python",
   "name": "python",
   "nbconvert_exporter": "python",
   "pygments_lexer": "ipython3",
   "version": "3.7.5"
  }
 },
 "nbformat": 4,
 "nbformat_minor": 4
}
